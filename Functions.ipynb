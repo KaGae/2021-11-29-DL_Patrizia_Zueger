{
 "cells": [
  {
   "cell_type": "code",
   "execution_count": 1,
   "id": "d6984a41",
   "metadata": {},
   "outputs": [],
   "source": [
    "dirty_isbns = [\n",
    "    \" ISBN 978-3-518-58773-7 \", \n",
    "    \"ISBN___978-1491946008 \",\n",
    "    \"ISBN 978-1593276034\"]"
   ]
  },
  {
   "cell_type": "code",
   "execution_count": 2,
   "id": "453d0871",
   "metadata": {},
   "outputs": [],
   "source": [
    "def clean_isbn():\n",
    "    isbn = \" ISBN 978-3-518-58773-7 \"\n",
    "    print(isbn)"
   ]
  },
  {
   "cell_type": "code",
   "execution_count": 3,
   "id": "f90a350f",
   "metadata": {},
   "outputs": [
    {
     "name": "stdout",
     "output_type": "stream",
     "text": [
      " ISBN 978-3-518-58773-7 \n"
     ]
    }
   ],
   "source": [
    "def clean_isbn():\n",
    "    isbn = \" ISBN 978-3-518-58773-7 \"\n",
    "    print(isbn)\n",
    "\n",
    "clean_isbn()"
   ]
  },
  {
   "cell_type": "code",
   "execution_count": 4,
   "id": "df7ee99c",
   "metadata": {},
   "outputs": [
    {
     "name": "stdout",
     "output_type": "stream",
     "text": [
      "ISBN 978-3-518-58773-7\n"
     ]
    }
   ],
   "source": [
    "def clean_isbn():\n",
    "    isbn = \" ISBN 978-3-518-58773-7 \"\n",
    "    isbn = isbn.strip()\n",
    "    print(isbn)\n",
    "\n",
    "clean_isbn()"
   ]
  },
  {
   "cell_type": "code",
   "execution_count": 5,
   "id": "27af7d10",
   "metadata": {},
   "outputs": [
    {
     "name": "stdout",
     "output_type": "stream",
     "text": [
      "978-3-518-58773-7\n"
     ]
    }
   ],
   "source": [
    "def clean_isbn():\n",
    "    isbn = \" ISBN 978-3-518-58773-7 \"\n",
    "    isbn = isbn.replace(\"ISBN\", \"\")\n",
    "    isbn = isbn.strip()\n",
    "    print(isbn)\n",
    "\n",
    "clean_isbn()"
   ]
  },
  {
   "cell_type": "code",
   "execution_count": 6,
   "id": "e67d6c83",
   "metadata": {},
   "outputs": [
    {
     "ename": "TypeError",
     "evalue": "clean_isbn() takes 0 positional arguments but 1 was given",
     "output_type": "error",
     "traceback": [
      "\u001b[0;31m---------------------------------------------------------------------------\u001b[0m",
      "\u001b[0;31mTypeError\u001b[0m                                 Traceback (most recent call last)",
      "\u001b[0;32m/tmp/ipykernel_15632/3899580181.py\u001b[0m in \u001b[0;36m<module>\u001b[0;34m\u001b[0m\n\u001b[1;32m      4\u001b[0m     \u001b[0mprint\u001b[0m\u001b[0;34m(\u001b[0m\u001b[0misbn\u001b[0m\u001b[0;34m)\u001b[0m\u001b[0;34m\u001b[0m\u001b[0;34m\u001b[0m\u001b[0m\n\u001b[1;32m      5\u001b[0m \u001b[0;34m\u001b[0m\u001b[0m\n\u001b[0;32m----> 6\u001b[0;31m \u001b[0mclean_isbn\u001b[0m\u001b[0;34m(\u001b[0m\u001b[0;34m\" ISBN 978-3-518-58773-7 \"\u001b[0m\u001b[0;34m)\u001b[0m\u001b[0;34m\u001b[0m\u001b[0;34m\u001b[0m\u001b[0m\n\u001b[0m",
      "\u001b[0;31mTypeError\u001b[0m: clean_isbn() takes 0 positional arguments but 1 was given"
     ]
    }
   ],
   "source": [
    "def clean_isbn():\n",
    "    isbn = isbn.replace(\"ISBN\", \"\")\n",
    "    isbn = isbn.strip()\n",
    "    print(isbn)\n",
    "\n",
    "clean_isbn(\" ISBN 978-3-518-58773-7 \")"
   ]
  },
  {
   "cell_type": "code",
   "execution_count": 7,
   "id": "1ea79838",
   "metadata": {},
   "outputs": [
    {
     "name": "stdout",
     "output_type": "stream",
     "text": [
      "978-3-518-58773-7\n"
     ]
    }
   ],
   "source": [
    "def clean_isbn(isbn):\n",
    "    isbn = isbn.replace(\"ISBN\", \"\")\n",
    "    isbn = isbn.strip()\n",
    "    print(isbn)\n",
    "\n",
    "clean_isbn(\" ISBN 978-3-518-58773-7 \")"
   ]
  },
  {
   "cell_type": "code",
   "execution_count": 8,
   "id": "b78ea9fd",
   "metadata": {},
   "outputs": [
    {
     "name": "stdout",
     "output_type": "stream",
     "text": [
      "BLA BLUB\n"
     ]
    }
   ],
   "source": [
    "clean_isbn(\"   ISBN BLA BLUB\")"
   ]
  },
  {
   "cell_type": "code",
   "execution_count": 10,
   "id": "165b9519",
   "metadata": {},
   "outputs": [],
   "source": [
    "def clean_isbn(isbn):\n",
    "    isbn = isbn.replace(\"ISBN\", \"\")\n",
    "    isbn = isbn.strip()\n",
    "    return(isbn)\n",
    "\n",
    "cleaned_isbn = clean_isbn(\" ISBN 978-3-518-58773-7 \")"
   ]
  },
  {
   "cell_type": "code",
   "execution_count": 11,
   "id": "012844e6",
   "metadata": {},
   "outputs": [
    {
     "data": {
      "text/plain": [
       "'boin bung'"
      ]
     },
     "execution_count": 11,
     "metadata": {},
     "output_type": "execute_result"
    }
   ],
   "source": [
    "clean_isbn(\"    ISBN  boin bung\")"
   ]
  },
  {
   "cell_type": "code",
   "execution_count": null,
   "id": "024fd029",
   "metadata": {},
   "outputs": [],
   "source": []
  }
 ],
 "metadata": {
  "kernelspec": {
   "display_name": "Python 3 (ipykernel)",
   "language": "python",
   "name": "python3"
  },
  "language_info": {
   "codemirror_mode": {
    "name": "ipython",
    "version": 3
   },
   "file_extension": ".py",
   "mimetype": "text/x-python",
   "name": "python",
   "nbconvert_exporter": "python",
   "pygments_lexer": "ipython3",
   "version": "3.9.7"
  }
 },
 "nbformat": 4,
 "nbformat_minor": 5
}
